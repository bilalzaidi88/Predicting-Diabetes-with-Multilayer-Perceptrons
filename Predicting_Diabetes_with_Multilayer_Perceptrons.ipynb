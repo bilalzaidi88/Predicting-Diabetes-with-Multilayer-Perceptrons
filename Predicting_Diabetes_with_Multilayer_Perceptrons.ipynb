{
  "nbformat": 4,
  "nbformat_minor": 0,
  "metadata": {
    "colab": {
      "name": "Predicting Diabetes with Multilayer Perceptrons.ipynb",
      "provenance": []
    },
    "kernelspec": {
      "name": "python3",
      "display_name": "Python 3"
    }
  },
  "cells": [
    {
      "cell_type": "code",
      "metadata": {
        "id": "_jnkppdQzixg",
        "colab_type": "code",
        "colab": {}
      },
      "source": [
        "import pandas as pd\n",
        "import numpy as np\n",
        "from matplotlib import pyplot as plt\n",
        "from IPython.display import display\n",
        "%matplotlib inline"
      ],
      "execution_count": 0,
      "outputs": []
    },
    {
      "cell_type": "code",
      "metadata": {
        "id": "Ru8ppDx_1oUu",
        "colab_type": "code",
        "colab": {}
      },
      "source": [
        "import os\n",
        "os.environ['KAGGLE_USERNAME'] = 'xxxx'\n",
        "os.environ['KAGGLE_KEY'] = 'xxxx'"
      ],
      "execution_count": 0,
      "outputs": []
    },
    {
      "cell_type": "markdown",
      "metadata": {
        "id": "N3OFj5fh8Kp3",
        "colab_type": "text"
      },
      "source": [
        "## **Dataset**"
      ]
    },
    {
      "cell_type": "code",
      "metadata": {
        "id": "ssDtmKSyz0hB",
        "colab_type": "code",
        "colab": {
          "base_uri": "https://localhost:8080/",
          "height": 34
        },
        "outputId": "7aeaafb8-4c45-4649-dfde-f33303f2d33b"
      },
      "source": [
        "!kaggle datasets download -d uciml/pima-indians-diabetes-database"
      ],
      "execution_count": 30,
      "outputs": [
        {
          "output_type": "stream",
          "text": [
            "pima-indians-diabetes-database.zip: Skipping, found more recently modified local copy (use --force to force download)\n"
          ],
          "name": "stdout"
        }
      ]
    },
    {
      "cell_type": "code",
      "metadata": {
        "id": "X2v5pGFtz9pK",
        "colab_type": "code",
        "colab": {
          "base_uri": "https://localhost:8080/",
          "height": 51
        },
        "outputId": "8262d4ca-2e07-4279-8645-070372e3bd9d"
      },
      "source": [
        "!unzip pima-indians-diabetes-database.zip"
      ],
      "execution_count": 31,
      "outputs": [
        {
          "output_type": "stream",
          "text": [
            "Archive:  pima-indians-diabetes-database.zip\n",
            "replace diabetes.csv? [y]es, [n]o, [A]ll, [N]one, [r]ename: N\n"
          ],
          "name": "stdout"
        }
      ]
    },
    {
      "cell_type": "markdown",
      "metadata": {
        "id": "-PMtSgrF8XCN",
        "colab_type": "text"
      },
      "source": [
        "## **Exploratory Data Analysis**"
      ]
    },
    {
      "cell_type": "code",
      "metadata": {
        "id": "9qkpiBwg1Via",
        "colab_type": "code",
        "colab": {}
      },
      "source": [
        "df = pd.read_csv('./diabetes.csv')"
      ],
      "execution_count": 0,
      "outputs": []
    },
    {
      "cell_type": "code",
      "metadata": {
        "id": "HH1MTIGb1h8j",
        "colab_type": "code",
        "colab": {
          "base_uri": "https://localhost:8080/",
          "height": 204
        },
        "outputId": "a9212a16-2488-4816-d399-41e348beef5a"
      },
      "source": [
        "df.head()"
      ],
      "execution_count": 33,
      "outputs": [
        {
          "output_type": "execute_result",
          "data": {
            "text/html": [
              "<div>\n",
              "<style scoped>\n",
              "    .dataframe tbody tr th:only-of-type {\n",
              "        vertical-align: middle;\n",
              "    }\n",
              "\n",
              "    .dataframe tbody tr th {\n",
              "        vertical-align: top;\n",
              "    }\n",
              "\n",
              "    .dataframe thead th {\n",
              "        text-align: right;\n",
              "    }\n",
              "</style>\n",
              "<table border=\"1\" class=\"dataframe\">\n",
              "  <thead>\n",
              "    <tr style=\"text-align: right;\">\n",
              "      <th></th>\n",
              "      <th>Pregnancies</th>\n",
              "      <th>Glucose</th>\n",
              "      <th>BloodPressure</th>\n",
              "      <th>SkinThickness</th>\n",
              "      <th>Insulin</th>\n",
              "      <th>BMI</th>\n",
              "      <th>DiabetesPedigreeFunction</th>\n",
              "      <th>Age</th>\n",
              "      <th>Outcome</th>\n",
              "    </tr>\n",
              "  </thead>\n",
              "  <tbody>\n",
              "    <tr>\n",
              "      <th>0</th>\n",
              "      <td>6</td>\n",
              "      <td>148</td>\n",
              "      <td>72</td>\n",
              "      <td>35</td>\n",
              "      <td>0</td>\n",
              "      <td>33.6</td>\n",
              "      <td>0.627</td>\n",
              "      <td>50</td>\n",
              "      <td>1</td>\n",
              "    </tr>\n",
              "    <tr>\n",
              "      <th>1</th>\n",
              "      <td>1</td>\n",
              "      <td>85</td>\n",
              "      <td>66</td>\n",
              "      <td>29</td>\n",
              "      <td>0</td>\n",
              "      <td>26.6</td>\n",
              "      <td>0.351</td>\n",
              "      <td>31</td>\n",
              "      <td>0</td>\n",
              "    </tr>\n",
              "    <tr>\n",
              "      <th>2</th>\n",
              "      <td>8</td>\n",
              "      <td>183</td>\n",
              "      <td>64</td>\n",
              "      <td>0</td>\n",
              "      <td>0</td>\n",
              "      <td>23.3</td>\n",
              "      <td>0.672</td>\n",
              "      <td>32</td>\n",
              "      <td>1</td>\n",
              "    </tr>\n",
              "    <tr>\n",
              "      <th>3</th>\n",
              "      <td>1</td>\n",
              "      <td>89</td>\n",
              "      <td>66</td>\n",
              "      <td>23</td>\n",
              "      <td>94</td>\n",
              "      <td>28.1</td>\n",
              "      <td>0.167</td>\n",
              "      <td>21</td>\n",
              "      <td>0</td>\n",
              "    </tr>\n",
              "    <tr>\n",
              "      <th>4</th>\n",
              "      <td>0</td>\n",
              "      <td>137</td>\n",
              "      <td>40</td>\n",
              "      <td>35</td>\n",
              "      <td>168</td>\n",
              "      <td>43.1</td>\n",
              "      <td>2.288</td>\n",
              "      <td>33</td>\n",
              "      <td>1</td>\n",
              "    </tr>\n",
              "  </tbody>\n",
              "</table>\n",
              "</div>"
            ],
            "text/plain": [
              "   Pregnancies  Glucose  BloodPressure  ...  DiabetesPedigreeFunction  Age  Outcome\n",
              "0            6      148             72  ...                     0.627   50        1\n",
              "1            1       85             66  ...                     0.351   31        0\n",
              "2            8      183             64  ...                     0.672   32        1\n",
              "3            1       89             66  ...                     0.167   21        0\n",
              "4            0      137             40  ...                     2.288   33        1\n",
              "\n",
              "[5 rows x 9 columns]"
            ]
          },
          "metadata": {
            "tags": []
          },
          "execution_count": 33
        }
      ]
    },
    {
      "cell_type": "code",
      "metadata": {
        "id": "w7olaskr2Sqy",
        "colab_type": "code",
        "colab": {
          "base_uri": "https://localhost:8080/",
          "height": 281
        },
        "outputId": "bbc800e7-2b7a-4ecf-9e5b-e0d4205ed8e7"
      },
      "source": [
        "df.hist()\n",
        "plt.show()"
      ],
      "execution_count": 34,
      "outputs": [
        {
          "output_type": "display_data",
          "data": {
            "image/png": "[encoded data removed]",
            "text/plain": [
              "<Figure size 432x288 with 9 Axes>"
            ]
          },
          "metadata": {
            "tags": []
          }
        }
      ]
    },
    {
      "cell_type": "code",
      "metadata": {
        "id": "YWPWDTUY5Iz5",
        "colab_type": "code",
        "colab": {
          "base_uri": "https://localhost:8080/",
          "height": 1000
        },
        "outputId": "ba355260-0dce-45b8-ca47-c1c805ebaaf1"
      },
      "source": [
        "import seaborn as sns\n",
        "\n",
        "# create a subplot of 3 x 3\n",
        "plt.subplots(3,3,figsize=(15,15))\n",
        "\n",
        "# Plot a density plot for each variable\n",
        "for idx, col in enumerate(df.columns):\n",
        "    ax = plt.subplot(3,3,idx+1)\n",
        "    ax.yaxis.set_ticklabels([])\n",
        "    sns.distplot(df.loc[df.Outcome == 0][col], hist=False, axlabel= False, \n",
        "    kde_kws={'linestyle':'-',  \n",
        "    'color':'black', 'label':\"No Diabetes\"})\n",
        "    sns.distplot(df.loc[df.Outcome == 1][col], hist=False, axlabel= False, \n",
        "    kde_kws={'linestyle':'--', \n",
        "    'color':'black', 'label':\"Diabetes\"})\n",
        "    ax.set_title(col)\n",
        "\n",
        "# Hide the 9th subplot (bottom right) since there are only 8 plots\n",
        "plt.subplot(3,3,9).set_visible(False)"
      ],
      "execution_count": 35,
      "outputs": [
        {
          "output_type": "stream",
          "text": [
            "/usr/local/lib/python3.6/dist-packages/statsmodels/nonparametric/kde.py:487: RuntimeWarning: invalid value encountered in true_divide\n",
            "  binned = fast_linbin(X, a, b, gridsize) / (delta * nobs)\n",
            "/usr/local/lib/python3.6/dist-packages/statsmodels/nonparametric/kdetools.py:34: RuntimeWarning: invalid value encountered in double_scalars\n",
            "  FAC1 = 2*(np.pi*bw/RANGE)**2\n",
            "/usr/local/lib/python3.6/dist-packages/matplotlib/figure.py:98: MatplotlibDeprecationWarning: \n",
            "Adding an axes using the same arguments as a previous axes currently reuses the earlier instance.  In a future version, a new instance will always be created and returned.  Meanwhile, this warning can be suppressed, and the future behavior ensured, by passing a unique label to each axes instance.\n",
            "  \"Adding an axes using the same arguments as a previous axes \"\n"
          ],
          "name": "stderr"
        },
        {
          "output_type": "display_data",
          "data": {
            "image/png": "[encoded data removed]",
            "text/plain": [
              "<Figure size 1080x1080 with 9 Axes>"
            ]
          },
          "metadata": {
            "tags": []
          }
        }
      ]
    },
    {
      "cell_type": "markdown",
      "metadata": {
        "id": "iTb6TVvy8p6N",
        "colab_type": "text"
      },
      "source": [
        "## **Data Preprocessing**"
      ]
    },
    {
      "cell_type": "markdown",
      "metadata": {
        "id": "a3igopkr8sNO",
        "colab_type": "text"
      },
      "source": [
        "###*Handling missing values*###"
      ]
    },
    {
      "cell_type": "code",
      "metadata": {
        "id": "3WiQZYXa5jaj",
        "colab_type": "code",
        "colab": {
          "base_uri": "https://localhost:8080/",
          "height": 187
        },
        "outputId": "be47b559-e455-48b6-b1c8-e7529c634da0"
      },
      "source": [
        "df.isnull().any()"
      ],
      "execution_count": 36,
      "outputs": [
        {
          "output_type": "execute_result",
          "data": {
            "text/plain": [
              "Pregnancies                 False\n",
              "Glucose                     False\n",
              "BloodPressure               False\n",
              "SkinThickness               False\n",
              "Insulin                     False\n",
              "BMI                         False\n",
              "DiabetesPedigreeFunction    False\n",
              "Age                         False\n",
              "Outcome                     False\n",
              "dtype: bool"
            ]
          },
          "metadata": {
            "tags": []
          },
          "execution_count": 36
        }
      ]
    },
    {
      "cell_type": "code",
      "metadata": {
        "id": "TMCPWk7X5qPt",
        "colab_type": "code",
        "colab": {
          "base_uri": "https://localhost:8080/",
          "height": 297
        },
        "outputId": "8b1bdbcc-db2d-40c4-d845-f1bc63db7054"
      },
      "source": [
        "df.describe()"
      ],
      "execution_count": 37,
      "outputs": [
        {
          "output_type": "execute_result",
          "data": {
            "text/html": [
              "<div>\n",
              "<style scoped>\n",
              "    .dataframe tbody tr th:only-of-type {\n",
              "        vertical-align: middle;\n",
              "    }\n",
              "\n",
              "    .dataframe tbody tr th {\n",
              "        vertical-align: top;\n",
              "    }\n",
              "\n",
              "    .dataframe thead th {\n",
              "        text-align: right;\n",
              "    }\n",
              "</style>\n",
              "<table border=\"1\" class=\"dataframe\">\n",
              "  <thead>\n",
              "    <tr style=\"text-align: right;\">\n",
              "      <th></th>\n",
              "      <th>Pregnancies</th>\n",
              "      <th>Glucose</th>\n",
              "      <th>BloodPressure</th>\n",
              "      <th>SkinThickness</th>\n",
              "      <th>Insulin</th>\n",
              "      <th>BMI</th>\n",
              "      <th>DiabetesPedigreeFunction</th>\n",
              "      <th>Age</th>\n",
              "      <th>Outcome</th>\n",
              "    </tr>\n",
              "  </thead>\n",
              "  <tbody>\n",
              "    <tr>\n",
              "      <th>count</th>\n",
              "      <td>768.000000</td>\n",
              "      <td>768.000000</td>\n",
              "      <td>768.000000</td>\n",
              "      <td>768.000000</td>\n",
              "      <td>768.000000</td>\n",
              "      <td>768.000000</td>\n",
              "      <td>768.000000</td>\n",
              "      <td>768.000000</td>\n",
              "      <td>768.000000</td>\n",
              "    </tr>\n",
              "    <tr>\n",
              "      <th>mean</th>\n",
              "      <td>3.845052</td>\n",
              "      <td>120.894531</td>\n",
              "      <td>69.105469</td>\n",
              "      <td>20.536458</td>\n",
              "      <td>79.799479</td>\n",
              "      <td>31.992578</td>\n",
              "      <td>0.471876</td>\n",
              "      <td>33.240885</td>\n",
              "      <td>0.348958</td>\n",
              "    </tr>\n",
              "    <tr>\n",
              "      <th>std</th>\n",
              "      <td>3.369578</td>\n",
              "      <td>31.972618</td>\n",
              "      <td>19.355807</td>\n",
              "      <td>15.952218</td>\n",
              "      <td>115.244002</td>\n",
              "      <td>7.884160</td>\n",
              "      <td>0.331329</td>\n",
              "      <td>11.760232</td>\n",
              "      <td>0.476951</td>\n",
              "    </tr>\n",
              "    <tr>\n",
              "      <th>min</th>\n",
              "      <td>0.000000</td>\n",
              "      <td>0.000000</td>\n",
              "      <td>0.000000</td>\n",
              "      <td>0.000000</td>\n",
              "      <td>0.000000</td>\n",
              "      <td>0.000000</td>\n",
              "      <td>0.078000</td>\n",
              "      <td>21.000000</td>\n",
              "      <td>0.000000</td>\n",
              "    </tr>\n",
              "    <tr>\n",
              "      <th>25%</th>\n",
              "      <td>1.000000</td>\n",
              "      <td>99.000000</td>\n",
              "      <td>62.000000</td>\n",
              "      <td>0.000000</td>\n",
              "      <td>0.000000</td>\n",
              "      <td>27.300000</td>\n",
              "      <td>0.243750</td>\n",
              "      <td>24.000000</td>\n",
              "      <td>0.000000</td>\n",
              "    </tr>\n",
              "    <tr>\n",
              "      <th>50%</th>\n",
              "      <td>3.000000</td>\n",
              "      <td>117.000000</td>\n",
              "      <td>72.000000</td>\n",
              "      <td>23.000000</td>\n",
              "      <td>30.500000</td>\n",
              "      <td>32.000000</td>\n",
              "      <td>0.372500</td>\n",
              "      <td>29.000000</td>\n",
              "      <td>0.000000</td>\n",
              "    </tr>\n",
              "    <tr>\n",
              "      <th>75%</th>\n",
              "      <td>6.000000</td>\n",
              "      <td>140.250000</td>\n",
              "      <td>80.000000</td>\n",
              "      <td>32.000000</td>\n",
              "      <td>127.250000</td>\n",
              "      <td>36.600000</td>\n",
              "      <td>0.626250</td>\n",
              "      <td>41.000000</td>\n",
              "      <td>1.000000</td>\n",
              "    </tr>\n",
              "    <tr>\n",
              "      <th>max</th>\n",
              "      <td>17.000000</td>\n",
              "      <td>199.000000</td>\n",
              "      <td>122.000000</td>\n",
              "      <td>99.000000</td>\n",
              "      <td>846.000000</td>\n",
              "      <td>67.100000</td>\n",
              "      <td>2.420000</td>\n",
              "      <td>81.000000</td>\n",
              "      <td>1.000000</td>\n",
              "    </tr>\n",
              "  </tbody>\n",
              "</table>\n",
              "</div>"
            ],
            "text/plain": [
              "       Pregnancies     Glucose  ...         Age     Outcome\n",
              "count   768.000000  768.000000  ...  768.000000  768.000000\n",
              "mean      3.845052  120.894531  ...   33.240885    0.348958\n",
              "std       3.369578   31.972618  ...   11.760232    0.476951\n",
              "min       0.000000    0.000000  ...   21.000000    0.000000\n",
              "25%       1.000000   99.000000  ...   24.000000    0.000000\n",
              "50%       3.000000  117.000000  ...   29.000000    0.000000\n",
              "75%       6.000000  140.250000  ...   41.000000    1.000000\n",
              "max      17.000000  199.000000  ...   81.000000    1.000000\n",
              "\n",
              "[8 rows x 9 columns]"
            ]
          },
          "metadata": {
            "tags": []
          },
          "execution_count": 37
        }
      ]
    },
    {
      "cell_type": "code",
      "metadata": {
        "id": "os1QDHAG5spu",
        "colab_type": "code",
        "colab": {
          "base_uri": "https://localhost:8080/",
          "height": 187
        },
        "outputId": "56916461-d8df-4708-a97f-980a976f1793"
      },
      "source": [
        "print(\"Number of rows with 0 values for each variable\")\n",
        "for col in df.columns:\n",
        "    missing_rows = df.loc[df[col]==0].shape[0]\n",
        "    print(col + \": \" + str(missing_rows))"
      ],
      "execution_count": 38,
      "outputs": [
        {
          "output_type": "stream",
          "text": [
            "Number of rows with 0 values for each variable\n",
            "Pregnancies: 111\n",
            "Glucose: 5\n",
            "BloodPressure: 35\n",
            "SkinThickness: 227\n",
            "Insulin: 374\n",
            "BMI: 11\n",
            "DiabetesPedigreeFunction: 0\n",
            "Age: 0\n",
            "Outcome: 500\n"
          ],
          "name": "stdout"
        }
      ]
    },
    {
      "cell_type": "code",
      "metadata": {
        "id": "qqsMQDW857Xi",
        "colab_type": "code",
        "colab": {}
      },
      "source": [
        "df['Glucose'] = df['Glucose'].replace(0, np.nan)\n",
        "df['BloodPressure'] = df['BloodPressure'].replace(0, np.nan)\n",
        "df['SkinThickness'] = df['SkinThickness'].replace(0, np.nan)\n",
        "df['Insulin'] = df['Insulin'].replace(0, np.nan)\n",
        "df['BMI'] = df['BMI'].replace(0, np.nan)"
      ],
      "execution_count": 0,
      "outputs": []
    },
    {
      "cell_type": "code",
      "metadata": {
        "id": "LdIKg1nC6Bl5",
        "colab_type": "code",
        "colab": {
          "base_uri": "https://localhost:8080/",
          "height": 187
        },
        "outputId": "3183277b-38b8-4161-a283-5a016fa441e0"
      },
      "source": [
        "print(\"Number of rows with 0 values for each variable\")\n",
        "for col in df.columns:\n",
        "    missing_rows = df.loc[df[col]==0].shape[0]\n",
        "    print(col + \": \" + str(missing_rows))"
      ],
      "execution_count": 41,
      "outputs": [
        {
          "output_type": "stream",
          "text": [
            "Number of rows with 0 values for each variable\n",
            "Pregnancies: 111\n",
            "Glucose: 0\n",
            "BloodPressure: 0\n",
            "SkinThickness: 0\n",
            "Insulin: 0\n",
            "BMI: 0\n",
            "DiabetesPedigreeFunction: 0\n",
            "Age: 0\n",
            "Outcome: 500\n"
          ],
          "name": "stdout"
        }
      ]
    },
    {
      "cell_type": "code",
      "metadata": {
        "id": "60mzkpuE6ENe",
        "colab_type": "code",
        "colab": {}
      },
      "source": [
        "df['Glucose'] = df['Glucose'].fillna(df['Glucose'].mean())\n",
        "df['BloodPressure'] = df['BloodPressure'].fillna(df['BloodPressure'].mean())\n",
        "df['SkinThickness'] = df['SkinThickness'].fillna(df['SkinThickness'].mean())\n",
        "df['Insulin'] = df['Insulin'].fillna(df['Insulin'].mean())\n",
        "df['BMI'] = df['BMI'].fillna(df['BMI'].mean())"
      ],
      "execution_count": 0,
      "outputs": []
    },
    {
      "cell_type": "markdown",
      "metadata": {
        "id": "nW_5FYuL86rt",
        "colab_type": "text"
      },
      "source": [
        "###*Data standardization*###"
      ]
    },
    {
      "cell_type": "code",
      "metadata": {
        "id": "rFMrMFHA6GoI",
        "colab_type": "code",
        "colab": {}
      },
      "source": [
        "from sklearn import preprocessing\n",
        "\n",
        "df_scaled = preprocessing.scale(df)"
      ],
      "execution_count": 0,
      "outputs": []
    },
    {
      "cell_type": "code",
      "metadata": {
        "id": "0HTV6C9s6H3C",
        "colab_type": "code",
        "colab": {}
      },
      "source": [
        "df_scaled = pd.DataFrame(df_scaled, columns=df.columns)"
      ],
      "execution_count": 0,
      "outputs": []
    },
    {
      "cell_type": "code",
      "metadata": {
        "id": "kMNY39iR6JuE",
        "colab_type": "code",
        "colab": {}
      },
      "source": [
        "df_scaled['Outcome'] = df['Outcome']\n",
        "df = df_scaled"
      ],
      "execution_count": 0,
      "outputs": []
    },
    {
      "cell_type": "code",
      "metadata": {
        "id": "O3gd7Scj6MGn",
        "colab_type": "code",
        "colab": {
          "base_uri": "https://localhost:8080/",
          "height": 142
        },
        "outputId": "60341966-1789-4040-906a-4498a328a627"
      },
      "source": [
        "df.describe().loc[['mean', 'std','max'],].round(2).abs()"
      ],
      "execution_count": 47,
      "outputs": [
        {
          "output_type": "execute_result",
          "data": {
            "text/html": [
              "<div>\n",
              "<style scoped>\n",
              "    .dataframe tbody tr th:only-of-type {\n",
              "        vertical-align: middle;\n",
              "    }\n",
              "\n",
              "    .dataframe tbody tr th {\n",
              "        vertical-align: top;\n",
              "    }\n",
              "\n",
              "    .dataframe thead th {\n",
              "        text-align: right;\n",
              "    }\n",
              "</style>\n",
              "<table border=\"1\" class=\"dataframe\">\n",
              "  <thead>\n",
              "    <tr style=\"text-align: right;\">\n",
              "      <th></th>\n",
              "      <th>Pregnancies</th>\n",
              "      <th>Glucose</th>\n",
              "      <th>BloodPressure</th>\n",
              "      <th>SkinThickness</th>\n",
              "      <th>Insulin</th>\n",
              "      <th>BMI</th>\n",
              "      <th>DiabetesPedigreeFunction</th>\n",
              "      <th>Age</th>\n",
              "      <th>Outcome</th>\n",
              "    </tr>\n",
              "  </thead>\n",
              "  <tbody>\n",
              "    <tr>\n",
              "      <th>mean</th>\n",
              "      <td>0.00</td>\n",
              "      <td>0.00</td>\n",
              "      <td>0.0</td>\n",
              "      <td>0.00</td>\n",
              "      <td>0.00</td>\n",
              "      <td>0.00</td>\n",
              "      <td>0.00</td>\n",
              "      <td>0.00</td>\n",
              "      <td>0.35</td>\n",
              "    </tr>\n",
              "    <tr>\n",
              "      <th>std</th>\n",
              "      <td>1.00</td>\n",
              "      <td>1.00</td>\n",
              "      <td>1.0</td>\n",
              "      <td>1.00</td>\n",
              "      <td>1.00</td>\n",
              "      <td>1.00</td>\n",
              "      <td>1.00</td>\n",
              "      <td>1.00</td>\n",
              "      <td>0.48</td>\n",
              "    </tr>\n",
              "    <tr>\n",
              "      <th>max</th>\n",
              "      <td>3.91</td>\n",
              "      <td>2.54</td>\n",
              "      <td>4.1</td>\n",
              "      <td>7.95</td>\n",
              "      <td>8.13</td>\n",
              "      <td>5.04</td>\n",
              "      <td>5.88</td>\n",
              "      <td>4.06</td>\n",
              "      <td>1.00</td>\n",
              "    </tr>\n",
              "  </tbody>\n",
              "</table>\n",
              "</div>"
            ],
            "text/plain": [
              "      Pregnancies  Glucose  ...   Age  Outcome\n",
              "mean         0.00     0.00  ...  0.00     0.35\n",
              "std          1.00     1.00  ...  1.00     0.48\n",
              "max          3.91     2.54  ...  4.06     1.00\n",
              "\n",
              "[3 rows x 9 columns]"
            ]
          },
          "metadata": {
            "tags": []
          },
          "execution_count": 47
        }
      ]
    },
    {
      "cell_type": "markdown",
      "metadata": {
        "id": "ZCWRuVtD9K6g",
        "colab_type": "text"
      },
      "source": [
        "###*Splitting the data into training, testing, and validation sets*###"
      ]
    },
    {
      "cell_type": "code",
      "metadata": {
        "id": "bfWmdLFZ6Qsz",
        "colab_type": "code",
        "colab": {}
      },
      "source": [
        "from sklearn.model_selection import train_test_split\n",
        "\n",
        "X = df.loc[:, df.columns != 'Outcome']\n",
        "y = df.loc[:, 'Outcome']"
      ],
      "execution_count": 0,
      "outputs": []
    },
    {
      "cell_type": "code",
      "metadata": {
        "id": "MGejR6WL6TIl",
        "colab_type": "code",
        "colab": {}
      },
      "source": [
        "X_train, X_test, y_train, y_test = train_test_split(X, y, test_size=0.2)"
      ],
      "execution_count": 0,
      "outputs": []
    },
    {
      "cell_type": "code",
      "metadata": {
        "id": "_Q188U746V3L",
        "colab_type": "code",
        "colab": {}
      },
      "source": [
        "X_train, X_val, y_train, y_val = train_test_split(X_train, y_train, test_size=0.2)"
      ],
      "execution_count": 0,
      "outputs": []
    },
    {
      "cell_type": "markdown",
      "metadata": {
        "id": "j3-RDbd69VoG",
        "colab_type": "text"
      },
      "source": [
        "## **Model Building in Python Using Keras**"
      ]
    },
    {
      "cell_type": "markdown",
      "metadata": {
        "id": "mwT9H3kW9azQ",
        "colab_type": "text"
      },
      "source": [
        "###*Model building*###"
      ]
    },
    {
      "cell_type": "code",
      "metadata": {
        "id": "M2gotkOX6iGg",
        "colab_type": "code",
        "colab": {
          "base_uri": "https://localhost:8080/",
          "height": 88
        },
        "outputId": "a64fcdd9-db8a-4bd9-ed78-cd85f3f4ffca"
      },
      "source": [
        "from keras.models import Sequential\n",
        "\n",
        "model = Sequential()"
      ],
      "execution_count": 51,
      "outputs": [
        {
          "output_type": "stream",
          "text": [
            "Using TensorFlow backend.\n"
          ],
          "name": "stderr"
        },
        {
          "output_type": "stream",
          "text": [
            "WARNING:tensorflow:From /usr/local/lib/python3.6/dist-packages/keras/backend/tensorflow_backend.py:66: The name tf.get_default_graph is deprecated. Please use tf.compat.v1.get_default_graph instead.\n",
            "\n"
          ],
          "name": "stdout"
        }
      ]
    },
    {
      "cell_type": "code",
      "metadata": {
        "id": "zbkniGp_6kKZ",
        "colab_type": "code",
        "colab": {
          "base_uri": "https://localhost:8080/",
          "height": 85
        },
        "outputId": "a54bdfd9-36be-4a5d-fc30-e8fb4d2b54e6"
      },
      "source": [
        "from keras.layers import Dense\n",
        "# Add the first hidden layer\n",
        "model.add(Dense(32, activation='relu', input_dim=8))"
      ],
      "execution_count": 52,
      "outputs": [
        {
          "output_type": "stream",
          "text": [
            "WARNING:tensorflow:From /usr/local/lib/python3.6/dist-packages/keras/backend/tensorflow_backend.py:541: The name tf.placeholder is deprecated. Please use tf.compat.v1.placeholder instead.\n",
            "\n",
            "WARNING:tensorflow:From /usr/local/lib/python3.6/dist-packages/keras/backend/tensorflow_backend.py:4432: The name tf.random_uniform is deprecated. Please use tf.random.uniform instead.\n",
            "\n"
          ],
          "name": "stdout"
        }
      ]
    },
    {
      "cell_type": "code",
      "metadata": {
        "id": "eMDn_ETP6nEs",
        "colab_type": "code",
        "colab": {}
      },
      "source": [
        "# Add the second hidden layer\n",
        "model.add(Dense(16, activation='relu'))"
      ],
      "execution_count": 0,
      "outputs": []
    },
    {
      "cell_type": "code",
      "metadata": {
        "id": "-kEV9Zyo6oq5",
        "colab_type": "code",
        "colab": {}
      },
      "source": [
        "# Add the output layer\n",
        "model.add(Dense(1, activation='sigmoid'))"
      ],
      "execution_count": 0,
      "outputs": []
    },
    {
      "cell_type": "markdown",
      "metadata": {
        "id": "jpRPGF749k1o",
        "colab_type": "text"
      },
      "source": [
        "###*Model compilation*###"
      ]
    },
    {
      "cell_type": "code",
      "metadata": {
        "id": "_ClOoXXX6rAP",
        "colab_type": "code",
        "colab": {
          "base_uri": "https://localhost:8080/",
          "height": 156
        },
        "outputId": "a61f220f-4b77-4efa-d543-8db8452388c8"
      },
      "source": [
        "# Compile the model\n",
        "model.compile(optimizer='adam',\n",
        "              loss='binary_crossentropy',\n",
        "              metrics=['accuracy'])"
      ],
      "execution_count": 56,
      "outputs": [
        {
          "output_type": "stream",
          "text": [
            "WARNING:tensorflow:From /usr/local/lib/python3.6/dist-packages/keras/optimizers.py:793: The name tf.train.Optimizer is deprecated. Please use tf.compat.v1.train.Optimizer instead.\n",
            "\n",
            "WARNING:tensorflow:From /usr/local/lib/python3.6/dist-packages/keras/backend/tensorflow_backend.py:3657: The name tf.log is deprecated. Please use tf.math.log instead.\n",
            "\n",
            "WARNING:tensorflow:From /usr/local/lib/python3.6/dist-packages/tensorflow/python/ops/nn_impl.py:180: add_dispatch_support.<locals>.wrapper (from tensorflow.python.ops.array_ops) is deprecated and will be removed in a future version.\n",
            "Instructions for updating:\n",
            "Use tf.where in 2.0, which has the same broadcast rule as np.where\n"
          ],
          "name": "stdout"
        }
      ]
    },
    {
      "cell_type": "code",
      "metadata": {
        "id": "oCZR7P-l6siR",
        "colab_type": "code",
        "colab": {
          "base_uri": "https://localhost:8080/",
          "height": 1000
        },
        "outputId": "480d6849-c16a-4e55-d174-5546ed512027"
      },
      "source": [
        "# Train the model for 200 epochs\n",
        "model.fit(X_train, y_train, epochs=200)"
      ],
      "execution_count": 57,
      "outputs": [
        {
          "output_type": "stream",
          "text": [
            "WARNING:tensorflow:From /usr/local/lib/python3.6/dist-packages/keras/backend/tensorflow_backend.py:1033: The name tf.assign_add is deprecated. Please use tf.compat.v1.assign_add instead.\n",
            "\n",
            "Epoch 1/200\n",
            "491/491 [==============================] - 1s 2ms/step - loss: 0.6710 - acc: 0.6090\n",
            "Epoch 2/200\n",
            "491/491 [==============================] - 0s 53us/step - loss: 0.6200 - acc: 0.6965\n",
            "Epoch 3/200\n",
            "491/491 [==============================] - 0s 53us/step - loss: 0.5773 - acc: 0.6965\n",
            "Epoch 4/200\n",
            "491/491 [==============================] - 0s 53us/step - loss: 0.5431 - acc: 0.7169\n",
            "Epoch 5/200\n",
            "491/491 [==============================] - 0s 52us/step - loss: 0.5153 - acc: 0.7332\n",
            "Epoch 6/200\n",
            "491/491 [==============================] - 0s 55us/step - loss: 0.4915 - acc: 0.7495\n",
            "Epoch 7/200\n",
            "491/491 [==============================] - 0s 48us/step - loss: 0.4752 - acc: 0.7617\n",
            "Epoch 8/200\n",
            "491/491 [==============================] - 0s 54us/step - loss: 0.4588 - acc: 0.7699\n",
            "Epoch 9/200\n",
            "491/491 [==============================] - 0s 52us/step - loss: 0.4481 - acc: 0.7882\n",
            "Epoch 10/200\n",
            "491/491 [==============================] - 0s 68us/step - loss: 0.4376 - acc: 0.7841\n",
            "Epoch 11/200\n",
            "491/491 [==============================] - 0s 62us/step - loss: 0.4310 - acc: 0.7821\n",
            "Epoch 12/200\n",
            "491/491 [==============================] - 0s 55us/step - loss: 0.4232 - acc: 0.7862\n",
            "Epoch 13/200\n",
            "491/491 [==============================] - 0s 57us/step - loss: 0.4188 - acc: 0.7882\n",
            "Epoch 14/200\n",
            "491/491 [==============================] - 0s 48us/step - loss: 0.4139 - acc: 0.7943\n",
            "Epoch 15/200\n",
            "491/491 [==============================] - 0s 55us/step - loss: 0.4100 - acc: 0.7943\n",
            "Epoch 16/200\n",
            "491/491 [==============================] - 0s 54us/step - loss: 0.4050 - acc: 0.8004\n",
            "Epoch 17/200\n",
            "491/491 [==============================] - 0s 51us/step - loss: 0.4004 - acc: 0.7984\n",
            "Epoch 18/200\n",
            "491/491 [==============================] - 0s 55us/step - loss: 0.3976 - acc: 0.8045\n",
            "Epoch 19/200\n",
            "491/491 [==============================] - 0s 71us/step - loss: 0.3937 - acc: 0.8126\n",
            "Epoch 20/200\n",
            "491/491 [==============================] - 0s 59us/step - loss: 0.3918 - acc: 0.8147\n",
            "Epoch 21/200\n",
            "491/491 [==============================] - 0s 53us/step - loss: 0.3887 - acc: 0.8086\n",
            "Epoch 22/200\n",
            "491/491 [==============================] - 0s 54us/step - loss: 0.3849 - acc: 0.8167\n",
            "Epoch 23/200\n",
            "491/491 [==============================] - 0s 54us/step - loss: 0.3812 - acc: 0.8228\n",
            "Epoch 24/200\n",
            "491/491 [==============================] - 0s 55us/step - loss: 0.3786 - acc: 0.8248\n",
            "Epoch 25/200\n",
            "491/491 [==============================] - 0s 55us/step - loss: 0.3771 - acc: 0.8208\n",
            "Epoch 26/200\n",
            "491/491 [==============================] - 0s 58us/step - loss: 0.3736 - acc: 0.8289\n",
            "Epoch 27/200\n",
            "491/491 [==============================] - 0s 57us/step - loss: 0.3699 - acc: 0.8269\n",
            "Epoch 28/200\n",
            "491/491 [==============================] - 0s 57us/step - loss: 0.3668 - acc: 0.8228\n",
            "Epoch 29/200\n",
            "491/491 [==============================] - 0s 53us/step - loss: 0.3641 - acc: 0.8310\n",
            "Epoch 30/200\n",
            "491/491 [==============================] - 0s 49us/step - loss: 0.3618 - acc: 0.8330\n",
            "Epoch 31/200\n",
            "491/491 [==============================] - 0s 49us/step - loss: 0.3584 - acc: 0.8350\n",
            "Epoch 32/200\n",
            "491/491 [==============================] - 0s 59us/step - loss: 0.3556 - acc: 0.8391\n",
            "Epoch 33/200\n",
            "491/491 [==============================] - 0s 55us/step - loss: 0.3512 - acc: 0.8432\n",
            "Epoch 34/200\n",
            "491/491 [==============================] - 0s 57us/step - loss: 0.3499 - acc: 0.8432\n",
            "Epoch 35/200\n",
            "491/491 [==============================] - 0s 62us/step - loss: 0.3489 - acc: 0.8411\n",
            "Epoch 36/200\n",
            "491/491 [==============================] - 0s 52us/step - loss: 0.3452 - acc: 0.8574\n",
            "Epoch 37/200\n",
            "491/491 [==============================] - 0s 56us/step - loss: 0.3406 - acc: 0.8473\n",
            "Epoch 38/200\n",
            "491/491 [==============================] - 0s 57us/step - loss: 0.3408 - acc: 0.8473\n",
            "Epoch 39/200\n",
            "491/491 [==============================] - 0s 64us/step - loss: 0.3361 - acc: 0.8554\n",
            "Epoch 40/200\n",
            "491/491 [==============================] - 0s 50us/step - loss: 0.3345 - acc: 0.8473\n",
            "Epoch 41/200\n",
            "491/491 [==============================] - 0s 51us/step - loss: 0.3304 - acc: 0.8574\n",
            "Epoch 42/200\n",
            "491/491 [==============================] - 0s 59us/step - loss: 0.3274 - acc: 0.8513\n",
            "Epoch 43/200\n",
            "491/491 [==============================] - 0s 51us/step - loss: 0.3262 - acc: 0.8574\n",
            "Epoch 44/200\n",
            "491/491 [==============================] - 0s 64us/step - loss: 0.3244 - acc: 0.8554\n",
            "Epoch 45/200\n",
            "491/491 [==============================] - 0s 55us/step - loss: 0.3223 - acc: 0.8534\n",
            "Epoch 46/200\n",
            "491/491 [==============================] - 0s 59us/step - loss: 0.3210 - acc: 0.8554\n",
            "Epoch 47/200\n",
            "491/491 [==============================] - 0s 73us/step - loss: 0.3193 - acc: 0.8697\n",
            "Epoch 48/200\n",
            "491/491 [==============================] - 0s 55us/step - loss: 0.3194 - acc: 0.8574\n",
            "Epoch 49/200\n",
            "491/491 [==============================] - 0s 49us/step - loss: 0.3139 - acc: 0.8697\n",
            "Epoch 50/200\n",
            "491/491 [==============================] - 0s 48us/step - loss: 0.3134 - acc: 0.8676\n",
            "Epoch 51/200\n",
            "491/491 [==============================] - 0s 54us/step - loss: 0.3131 - acc: 0.8574\n",
            "Epoch 52/200\n",
            "491/491 [==============================] - 0s 51us/step - loss: 0.3110 - acc: 0.8758\n",
            "Epoch 53/200\n",
            "491/491 [==============================] - 0s 49us/step - loss: 0.3061 - acc: 0.8676\n",
            "Epoch 54/200\n",
            "491/491 [==============================] - 0s 58us/step - loss: 0.3039 - acc: 0.8717\n",
            "Epoch 55/200\n",
            "491/491 [==============================] - 0s 53us/step - loss: 0.3029 - acc: 0.8697\n",
            "Epoch 56/200\n",
            "491/491 [==============================] - 0s 64us/step - loss: 0.3023 - acc: 0.8778\n",
            "Epoch 57/200\n",
            "491/491 [==============================] - 0s 60us/step - loss: 0.2983 - acc: 0.8717\n",
            "Epoch 58/200\n",
            "491/491 [==============================] - 0s 62us/step - loss: 0.2983 - acc: 0.8697\n",
            "Epoch 59/200\n",
            "491/491 [==============================] - 0s 50us/step - loss: 0.2971 - acc: 0.8798\n",
            "Epoch 60/200\n",
            "491/491 [==============================] - 0s 56us/step - loss: 0.2953 - acc: 0.8717\n",
            "Epoch 61/200\n",
            "491/491 [==============================] - 0s 55us/step - loss: 0.2918 - acc: 0.8819\n",
            "Epoch 62/200\n",
            "491/491 [==============================] - 0s 51us/step - loss: 0.2904 - acc: 0.8778\n",
            "Epoch 63/200\n",
            "491/491 [==============================] - 0s 51us/step - loss: 0.2925 - acc: 0.8697\n",
            "Epoch 64/200\n",
            "491/491 [==============================] - 0s 52us/step - loss: 0.2884 - acc: 0.8737\n",
            "Epoch 65/200\n",
            "491/491 [==============================] - 0s 51us/step - loss: 0.2850 - acc: 0.8758\n",
            "Epoch 66/200\n",
            "491/491 [==============================] - 0s 56us/step - loss: 0.2822 - acc: 0.8798\n",
            "Epoch 67/200\n",
            "491/491 [==============================] - 0s 53us/step - loss: 0.2825 - acc: 0.8859\n",
            "Epoch 68/200\n",
            "491/491 [==============================] - 0s 59us/step - loss: 0.2797 - acc: 0.8737\n",
            "Epoch 69/200\n",
            "491/491 [==============================] - 0s 53us/step - loss: 0.2786 - acc: 0.8737\n",
            "Epoch 70/200\n",
            "491/491 [==============================] - 0s 70us/step - loss: 0.2770 - acc: 0.8819\n",
            "Epoch 71/200\n",
            "491/491 [==============================] - 0s 61us/step - loss: 0.2757 - acc: 0.8737\n",
            "Epoch 72/200\n",
            "491/491 [==============================] - 0s 50us/step - loss: 0.2747 - acc: 0.8778\n",
            "Epoch 73/200\n",
            "491/491 [==============================] - 0s 50us/step - loss: 0.2716 - acc: 0.8819\n",
            "Epoch 74/200\n",
            "491/491 [==============================] - 0s 48us/step - loss: 0.2704 - acc: 0.8880\n",
            "Epoch 75/200\n",
            "491/491 [==============================] - 0s 54us/step - loss: 0.2691 - acc: 0.8798\n",
            "Epoch 76/200\n",
            "491/491 [==============================] - 0s 60us/step - loss: 0.2698 - acc: 0.8758\n",
            "Epoch 77/200\n",
            "491/491 [==============================] - 0s 54us/step - loss: 0.2644 - acc: 0.8839\n",
            "Epoch 78/200\n",
            "491/491 [==============================] - 0s 56us/step - loss: 0.2609 - acc: 0.8839\n",
            "Epoch 79/200\n",
            "491/491 [==============================] - 0s 51us/step - loss: 0.2645 - acc: 0.8798\n",
            "Epoch 80/200\n",
            "491/491 [==============================] - 0s 56us/step - loss: 0.2645 - acc: 0.8798\n",
            "Epoch 81/200\n",
            "491/491 [==============================] - 0s 54us/step - loss: 0.2571 - acc: 0.8859\n",
            "Epoch 82/200\n",
            "491/491 [==============================] - 0s 55us/step - loss: 0.2568 - acc: 0.8921\n",
            "Epoch 83/200\n",
            "491/491 [==============================] - 0s 47us/step - loss: 0.2545 - acc: 0.8921\n",
            "Epoch 84/200\n",
            "491/491 [==============================] - 0s 54us/step - loss: 0.2509 - acc: 0.8839\n",
            "Epoch 85/200\n",
            "491/491 [==============================] - 0s 50us/step - loss: 0.2540 - acc: 0.8880\n",
            "Epoch 86/200\n",
            "491/491 [==============================] - 0s 52us/step - loss: 0.2573 - acc: 0.8798\n",
            "Epoch 87/200\n",
            "491/491 [==============================] - 0s 51us/step - loss: 0.2475 - acc: 0.8941\n",
            "Epoch 88/200\n",
            "491/491 [==============================] - 0s 61us/step - loss: 0.2463 - acc: 0.8982\n",
            "Epoch 89/200\n",
            "491/491 [==============================] - 0s 48us/step - loss: 0.2420 - acc: 0.8961\n",
            "Epoch 90/200\n",
            "491/491 [==============================] - 0s 49us/step - loss: 0.2465 - acc: 0.8859\n",
            "Epoch 91/200\n",
            "491/491 [==============================] - 0s 47us/step - loss: 0.2507 - acc: 0.8921\n",
            "Epoch 92/200\n",
            "491/491 [==============================] - 0s 51us/step - loss: 0.2376 - acc: 0.8982\n",
            "Epoch 93/200\n",
            "491/491 [==============================] - 0s 53us/step - loss: 0.2348 - acc: 0.8941\n",
            "Epoch 94/200\n",
            "491/491 [==============================] - 0s 47us/step - loss: 0.2352 - acc: 0.8921\n",
            "Epoch 95/200\n",
            "491/491 [==============================] - 0s 45us/step - loss: 0.2318 - acc: 0.9043\n",
            "Epoch 96/200\n",
            "491/491 [==============================] - 0s 47us/step - loss: 0.2366 - acc: 0.8982\n",
            "Epoch 97/200\n",
            "491/491 [==============================] - 0s 46us/step - loss: 0.2301 - acc: 0.8982\n",
            "Epoch 98/200\n",
            "491/491 [==============================] - 0s 62us/step - loss: 0.2301 - acc: 0.9043\n",
            "Epoch 99/200\n",
            "491/491 [==============================] - 0s 51us/step - loss: 0.2266 - acc: 0.9043\n",
            "Epoch 100/200\n",
            "491/491 [==============================] - 0s 45us/step - loss: 0.2229 - acc: 0.9063\n",
            "Epoch 101/200\n",
            "491/491 [==============================] - 0s 48us/step - loss: 0.2224 - acc: 0.9063\n",
            "Epoch 102/200\n",
            "491/491 [==============================] - 0s 52us/step - loss: 0.2184 - acc: 0.9084\n",
            "Epoch 103/200\n",
            "491/491 [==============================] - 0s 44us/step - loss: 0.2166 - acc: 0.9002\n",
            "Epoch 104/200\n",
            "491/491 [==============================] - 0s 48us/step - loss: 0.2166 - acc: 0.9043\n",
            "Epoch 105/200\n",
            "491/491 [==============================] - 0s 51us/step - loss: 0.2129 - acc: 0.9104\n",
            "Epoch 106/200\n",
            "491/491 [==============================] - 0s 42us/step - loss: 0.2105 - acc: 0.9124\n",
            "Epoch 107/200\n",
            "491/491 [==============================] - 0s 45us/step - loss: 0.2112 - acc: 0.9145\n",
            "Epoch 108/200\n",
            "491/491 [==============================] - 0s 50us/step - loss: 0.2120 - acc: 0.9124\n",
            "Epoch 109/200\n",
            "491/491 [==============================] - 0s 50us/step - loss: 0.2111 - acc: 0.9063\n",
            "Epoch 110/200\n",
            "491/491 [==============================] - 0s 46us/step - loss: 0.2057 - acc: 0.9063\n",
            "Epoch 111/200\n",
            "491/491 [==============================] - 0s 50us/step - loss: 0.2032 - acc: 0.9104\n",
            "Epoch 112/200\n",
            "491/491 [==============================] - 0s 50us/step - loss: 0.2009 - acc: 0.9206\n",
            "Epoch 113/200\n",
            "491/491 [==============================] - 0s 41us/step - loss: 0.1997 - acc: 0.9145\n",
            "Epoch 114/200\n",
            "491/491 [==============================] - 0s 47us/step - loss: 0.1966 - acc: 0.9145\n",
            "Epoch 115/200\n",
            "491/491 [==============================] - 0s 52us/step - loss: 0.1972 - acc: 0.9206\n",
            "Epoch 116/200\n",
            "491/491 [==============================] - 0s 43us/step - loss: 0.1959 - acc: 0.9246\n",
            "Epoch 117/200\n",
            "491/491 [==============================] - 0s 45us/step - loss: 0.1922 - acc: 0.9287\n",
            "Epoch 118/200\n",
            "491/491 [==============================] - 0s 49us/step - loss: 0.1893 - acc: 0.9267\n",
            "Epoch 119/200\n",
            "491/491 [==============================] - 0s 53us/step - loss: 0.1881 - acc: 0.9206\n",
            "Epoch 120/200\n",
            "491/491 [==============================] - 0s 47us/step - loss: 0.1864 - acc: 0.9308\n",
            "Epoch 121/200\n",
            "491/491 [==============================] - 0s 44us/step - loss: 0.1852 - acc: 0.9226\n",
            "Epoch 122/200\n",
            "491/491 [==============================] - 0s 47us/step - loss: 0.1892 - acc: 0.9185\n",
            "Epoch 123/200\n",
            "491/491 [==============================] - 0s 57us/step - loss: 0.1956 - acc: 0.9165\n",
            "Epoch 124/200\n",
            "491/491 [==============================] - 0s 47us/step - loss: 0.1867 - acc: 0.9246\n",
            "Epoch 125/200\n",
            "491/491 [==============================] - 0s 51us/step - loss: 0.1790 - acc: 0.9206\n",
            "Epoch 126/200\n",
            "491/491 [==============================] - 0s 51us/step - loss: 0.1827 - acc: 0.9246\n",
            "Epoch 127/200\n",
            "491/491 [==============================] - 0s 51us/step - loss: 0.1775 - acc: 0.9287\n",
            "Epoch 128/200\n",
            "491/491 [==============================] - 0s 53us/step - loss: 0.1743 - acc: 0.9328\n",
            "Epoch 129/200\n",
            "491/491 [==============================] - 0s 47us/step - loss: 0.1717 - acc: 0.9328\n",
            "Epoch 130/200\n",
            "491/491 [==============================] - 0s 52us/step - loss: 0.1705 - acc: 0.9348\n",
            "Epoch 131/200\n",
            "491/491 [==============================] - 0s 46us/step - loss: 0.1756 - acc: 0.9348\n",
            "Epoch 132/200\n",
            "491/491 [==============================] - 0s 48us/step - loss: 0.1734 - acc: 0.9328\n",
            "Epoch 133/200\n",
            "491/491 [==============================] - 0s 47us/step - loss: 0.1692 - acc: 0.9308\n",
            "Epoch 134/200\n",
            "491/491 [==============================] - 0s 44us/step - loss: 0.1743 - acc: 0.9369\n",
            "Epoch 135/200\n",
            "491/491 [==============================] - 0s 54us/step - loss: 0.1760 - acc: 0.9104\n",
            "Epoch 136/200\n",
            "491/491 [==============================] - 0s 47us/step - loss: 0.1694 - acc: 0.9287\n",
            "Epoch 137/200\n",
            "491/491 [==============================] - 0s 47us/step - loss: 0.1588 - acc: 0.9491\n",
            "Epoch 138/200\n",
            "491/491 [==============================] - 0s 55us/step - loss: 0.1594 - acc: 0.9450\n",
            "Epoch 139/200\n",
            "491/491 [==============================] - 0s 46us/step - loss: 0.1575 - acc: 0.9389\n",
            "Epoch 140/200\n",
            "491/491 [==============================] - 0s 62us/step - loss: 0.1530 - acc: 0.9450\n",
            "Epoch 141/200\n",
            "491/491 [==============================] - 0s 42us/step - loss: 0.1500 - acc: 0.9470\n",
            "Epoch 142/200\n",
            "491/491 [==============================] - 0s 47us/step - loss: 0.1546 - acc: 0.9389\n",
            "Epoch 143/200\n",
            "491/491 [==============================] - 0s 47us/step - loss: 0.1527 - acc: 0.9532\n",
            "Epoch 144/200\n",
            "491/491 [==============================] - 0s 41us/step - loss: 0.1473 - acc: 0.9470\n",
            "Epoch 145/200\n",
            "491/491 [==============================] - 0s 46us/step - loss: 0.1450 - acc: 0.9572\n",
            "Epoch 146/200\n",
            "491/491 [==============================] - 0s 52us/step - loss: 0.1426 - acc: 0.9552\n",
            "Epoch 147/200\n",
            "491/491 [==============================] - 0s 42us/step - loss: 0.1407 - acc: 0.9511\n",
            "Epoch 148/200\n",
            "491/491 [==============================] - 0s 46us/step - loss: 0.1415 - acc: 0.9450\n",
            "Epoch 149/200\n",
            "491/491 [==============================] - 0s 52us/step - loss: 0.1473 - acc: 0.9511\n",
            "Epoch 150/200\n",
            "491/491 [==============================] - 0s 51us/step - loss: 0.1427 - acc: 0.9450\n",
            "Epoch 151/200\n",
            "491/491 [==============================] - 0s 51us/step - loss: 0.1391 - acc: 0.9593\n",
            "Epoch 152/200\n",
            "491/491 [==============================] - 0s 49us/step - loss: 0.1338 - acc: 0.9491\n",
            "Epoch 153/200\n",
            "491/491 [==============================] - 0s 45us/step - loss: 0.1340 - acc: 0.9593\n",
            "Epoch 154/200\n",
            "491/491 [==============================] - 0s 43us/step - loss: 0.1323 - acc: 0.9511\n",
            "Epoch 155/200\n",
            "491/491 [==============================] - 0s 64us/step - loss: 0.1300 - acc: 0.9511\n",
            "Epoch 156/200\n",
            "491/491 [==============================] - 0s 47us/step - loss: 0.1257 - acc: 0.9552\n",
            "Epoch 157/200\n",
            "491/491 [==============================] - 0s 48us/step - loss: 0.1249 - acc: 0.9674\n",
            "Epoch 158/200\n",
            "491/491 [==============================] - 0s 60us/step - loss: 0.1252 - acc: 0.9613\n",
            "Epoch 159/200\n",
            "491/491 [==============================] - 0s 44us/step - loss: 0.1252 - acc: 0.9572\n",
            "Epoch 160/200\n",
            "491/491 [==============================] - 0s 46us/step - loss: 0.1242 - acc: 0.9654\n",
            "Epoch 161/200\n",
            "491/491 [==============================] - 0s 43us/step - loss: 0.1190 - acc: 0.9695\n",
            "Epoch 162/200\n",
            "491/491 [==============================] - 0s 41us/step - loss: 0.1186 - acc: 0.9572\n",
            "Epoch 163/200\n",
            "491/491 [==============================] - 0s 41us/step - loss: 0.1166 - acc: 0.9674\n",
            "Epoch 164/200\n",
            "491/491 [==============================] - 0s 47us/step - loss: 0.1149 - acc: 0.9654\n",
            "Epoch 165/200\n",
            "491/491 [==============================] - 0s 45us/step - loss: 0.1131 - acc: 0.9633\n",
            "Epoch 166/200\n",
            "491/491 [==============================] - 0s 48us/step - loss: 0.1124 - acc: 0.9633\n",
            "Epoch 167/200\n",
            "491/491 [==============================] - 0s 49us/step - loss: 0.1096 - acc: 0.9695\n",
            "Epoch 168/200\n",
            "491/491 [==============================] - 0s 46us/step - loss: 0.1077 - acc: 0.9633\n",
            "Epoch 169/200\n",
            "491/491 [==============================] - 0s 45us/step - loss: 0.1107 - acc: 0.9715\n",
            "Epoch 170/200\n",
            "491/491 [==============================] - 0s 49us/step - loss: 0.1103 - acc: 0.9654\n",
            "Epoch 171/200\n",
            "491/491 [==============================] - 0s 53us/step - loss: 0.1044 - acc: 0.9674\n",
            "Epoch 172/200\n",
            "491/491 [==============================] - 0s 43us/step - loss: 0.1027 - acc: 0.9715\n",
            "Epoch 173/200\n",
            "491/491 [==============================] - 0s 42us/step - loss: 0.1071 - acc: 0.9674\n",
            "Epoch 174/200\n",
            "491/491 [==============================] - 0s 43us/step - loss: 0.1062 - acc: 0.9695\n",
            "Epoch 175/200\n",
            "491/491 [==============================] - 0s 46us/step - loss: 0.0987 - acc: 0.9695\n",
            "Epoch 176/200\n",
            "491/491 [==============================] - 0s 49us/step - loss: 0.0965 - acc: 0.9735\n",
            "Epoch 177/200\n",
            "491/491 [==============================] - 0s 51us/step - loss: 0.0946 - acc: 0.9735\n",
            "Epoch 178/200\n",
            "491/491 [==============================] - 0s 44us/step - loss: 0.0983 - acc: 0.9735\n",
            "Epoch 179/200\n",
            "491/491 [==============================] - 0s 43us/step - loss: 0.0939 - acc: 0.9817\n",
            "Epoch 180/200\n",
            "491/491 [==============================] - 0s 42us/step - loss: 0.0929 - acc: 0.9756\n",
            "Epoch 181/200\n",
            "491/491 [==============================] - 0s 45us/step - loss: 0.0906 - acc: 0.9796\n",
            "Epoch 182/200\n",
            "491/491 [==============================] - 0s 52us/step - loss: 0.0880 - acc: 0.9857\n",
            "Epoch 183/200\n",
            "491/491 [==============================] - 0s 56us/step - loss: 0.0855 - acc: 0.9878\n",
            "Epoch 184/200\n",
            "491/491 [==============================] - 0s 56us/step - loss: 0.0875 - acc: 0.9776\n",
            "Epoch 185/200\n",
            "491/491 [==============================] - 0s 46us/step - loss: 0.0842 - acc: 0.9776\n",
            "Epoch 186/200\n",
            "491/491 [==============================] - 0s 49us/step - loss: 0.0837 - acc: 0.9898\n",
            "Epoch 187/200\n",
            "491/491 [==============================] - 0s 46us/step - loss: 0.0803 - acc: 0.9857\n",
            "Epoch 188/200\n",
            "491/491 [==============================] - 0s 44us/step - loss: 0.0812 - acc: 0.9817\n",
            "Epoch 189/200\n",
            "491/491 [==============================] - 0s 47us/step - loss: 0.0800 - acc: 0.9878\n",
            "Epoch 190/200\n",
            "491/491 [==============================] - 0s 47us/step - loss: 0.0801 - acc: 0.9817\n",
            "Epoch 191/200\n",
            "491/491 [==============================] - 0s 43us/step - loss: 0.0755 - acc: 0.9817\n",
            "Epoch 192/200\n",
            "491/491 [==============================] - 0s 53us/step - loss: 0.0746 - acc: 0.9857\n",
            "Epoch 193/200\n",
            "491/491 [==============================] - 0s 45us/step - loss: 0.0755 - acc: 0.9857\n",
            "Epoch 194/200\n",
            "491/491 [==============================] - 0s 43us/step - loss: 0.0710 - acc: 0.9898\n",
            "Epoch 195/200\n",
            "491/491 [==============================] - 0s 46us/step - loss: 0.0714 - acc: 0.9919\n",
            "Epoch 196/200\n",
            "491/491 [==============================] - 0s 42us/step - loss: 0.0697 - acc: 0.9898\n",
            "Epoch 197/200\n",
            "491/491 [==============================] - 0s 49us/step - loss: 0.0665 - acc: 0.9939\n",
            "Epoch 198/200\n",
            "491/491 [==============================] - 0s 41us/step - loss: 0.0674 - acc: 0.9939\n",
            "Epoch 199/200\n",
            "491/491 [==============================] - 0s 46us/step - loss: 0.0667 - acc: 0.9898\n",
            "Epoch 200/200\n",
            "491/491 [==============================] - 0s 46us/step - loss: 0.0655 - acc: 0.9878\n"
          ],
          "name": "stdout"
        },
        {
          "output_type": "execute_result",
          "data": {
            "text/plain": [
              "<keras.callbacks.History at 0x7f0f3aeb50b8>"
            ]
          },
          "metadata": {
            "tags": []
          },
          "execution_count": 57
        }
      ]
    },
    {
      "cell_type": "markdown",
      "metadata": {
        "id": "CjwTENF49sl0",
        "colab_type": "text"
      },
      "source": [
        "## **Results Analysis** ##"
      ]
    },
    {
      "cell_type": "markdown",
      "metadata": {
        "id": "qINm4BnD-Aii",
        "colab_type": "text"
      },
      "source": [
        "###*Testing accuracy*###"
      ]
    },
    {
      "cell_type": "code",
      "metadata": {
        "id": "pcCKBmrG6yZT",
        "colab_type": "code",
        "colab": {
          "base_uri": "https://localhost:8080/",
          "height": 119
        },
        "outputId": "816b46f8-a8a6-42d5-a92a-053fe4d11373"
      },
      "source": [
        "scores = model.evaluate(X_train, y_train)\n",
        "print(\"Training Accuracy: %.2f%%\\n\" % (scores[1]*100))\n",
        "\n",
        "scores = model.evaluate(X_test, y_test)\n",
        "print(\"Testing Accuracy: %.2f%%\\n\" % (scores[1]*100))"
      ],
      "execution_count": 58,
      "outputs": [
        {
          "output_type": "stream",
          "text": [
            "491/491 [==============================] - 0s 115us/step\n",
            "Training Accuracy: 99.59%\n",
            "\n",
            "154/154 [==============================] - 0s 41us/step\n",
            "Testing Accuracy: 74.03%\n",
            "\n"
          ],
          "name": "stdout"
        }
      ]
    },
    {
      "cell_type": "markdown",
      "metadata": {
        "id": "wSO8FMUj-E84",
        "colab_type": "text"
      },
      "source": [
        "###*Confusion matrix*"
      ]
    },
    {
      "cell_type": "code",
      "metadata": {
        "id": "i8tGQ_y862gI",
        "colab_type": "code",
        "colab": {
          "base_uri": "https://localhost:8080/",
          "height": 300
        },
        "outputId": "2863f7cd-2555-465b-8172-ac8f7998c002"
      },
      "source": [
        "from sklearn.metrics import confusion_matrix\n",
        "import seaborn as sns\n",
        "\n",
        "y_test_pred = model.predict_classes(X_test)\n",
        "c_matrix = confusion_matrix(y_test, y_test_pred)\n",
        "ax = sns.heatmap(c_matrix, annot=True, \n",
        "                 xticklabels=['No Diabetes','Diabetes'],\n",
        "                 yticklabels=['No Diabetes','Diabetes'], \n",
        "                 cbar=False, cmap='Blues')\n",
        "ax.set_xlabel(\"Prediction\")\n",
        "ax.set_ylabel(\"Actual\")"
      ],
      "execution_count": 59,
      "outputs": [
        {
          "output_type": "execute_result",
          "data": {
            "text/plain": [
              "Text(33.0, 0.5, 'Actual')"
            ]
          },
          "metadata": {
            "tags": []
          },
          "execution_count": 59
        },
        {
          "output_type": "display_data",
          "data": {
            "image/png": "[encoded data removed]",
            "text/plain": [
              "<Figure size 432x288 with 1 Axes>"
            ]
          },
          "metadata": {
            "tags": []
          }
        }
      ]
    },
    {
      "cell_type": "markdown",
      "metadata": {
        "id": "fCbqnsLf-QQ_",
        "colab_type": "text"
      },
      "source": [
        "###*ROC curve*###"
      ]
    },
    {
      "cell_type": "code",
      "metadata": {
        "id": "iqe3-0F-66uo",
        "colab_type": "code",
        "colab": {}
      },
      "source": [
        "from sklearn.metrics import roc_curve\n",
        "import matplotlib.pyplot as plt\n",
        "\n",
        "y_test_pred_probs = model.predict(X_test)"
      ],
      "execution_count": 0,
      "outputs": []
    },
    {
      "cell_type": "code",
      "metadata": {
        "id": "tDhvgh5J678h",
        "colab_type": "code",
        "colab": {}
      },
      "source": [
        "FPR, TPR, _ = roc_curve(y_test, y_test_pred_probs)"
      ],
      "execution_count": 0,
      "outputs": []
    },
    {
      "cell_type": "code",
      "metadata": {
        "id": "qrrDZ29i69Qg",
        "colab_type": "code",
        "colab": {
          "base_uri": "https://localhost:8080/",
          "height": 312
        },
        "outputId": "d83a2b65-ab08-4c15-d8a2-2525c0a4c0a4"
      },
      "source": [
        "plt.plot(FPR, TPR)\n",
        "plt.plot([0,1],[0,1],'--', color='black') #diagonal line\n",
        "plt.title('ROC Curve')\n",
        "plt.xlabel('False Positive Rate')\n",
        "plt.ylabel('True Positive Rate')"
      ],
      "execution_count": 62,
      "outputs": [
        {
          "output_type": "execute_result",
          "data": {
            "text/plain": [
              "Text(0, 0.5, 'True Positive Rate')"
            ]
          },
          "metadata": {
            "tags": []
          },
          "execution_count": 62
        },
        {
          "output_type": "display_data",
          "data": {
            "image/png": "[encoded data removed]",
            "text/plain": [
              "<Figure size 432x288 with 1 Axes>"
            ]
          },
          "metadata": {
            "tags": []
          }
        }
      ]
    }
  ]
}